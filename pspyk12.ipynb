{
  "cells": [
    {
      "cell_type": "code",
      "execution_count": null,
      "metadata": {
        "id": "UoH8kZvLICAR"
      },
      "outputs": [],
      "source": [
        "#user_data\n",
        "\n",
        "user_id,series,season,timestamp,genre,duration_mins\n",
        "521,”Mirzapur”,3,2024-07-30 15:00:00,action,300\n",
        "672,”Panchayat”,3,2024-07-30 15:00:00,comedy,200\n",
        "197,”Family Man”,2,2024-07-30 15:00:00,action,500\n",
        "521,”Mirzapur”,2,2024-07-29 15:00:00,action,280\n",
        "211,”Queens Gambit”,1,2024-07-30 15:00:00,drama,170\n",
        "521,”Mirzapur”,1,2024-07-28 15:00:00,action,230\n",
        "844,”Westworld”,3,2024-07-30 15:00:00,sci-fi,310\n",
        "672,”Panchayat”,3,2024-07-29 15:00:00,comedy,210\n",
        "256,”Homecoming”,2,2024-07-30 15:00:00,thriller,310\n",
        "489,”Outer Range”,1,2024-07-30 15:00:00,sci-fi,340\n",
        "200,”Black Mirror”,2,2024-07-30 15:00:00,sci-fi,140\n",
        "256,”Outer Range”,2,2024-07-30 15:00:00,thriller,250\n",
        "489,”Outer Range”,2,2024-07-28 15:00:00,sci-fi,170\n",
        "200,”Black Mirror”,3,2024-07-29 15:00:00,sci-fi,190\n",
        "672,”Panchayat”,2,2024-07-28 15:00:00,comedy,160\n",
        "672,”Outer Range”,1,2024-07-25 15:00:00,sci-fi,250\n",
        "200,”Black Mirror”,4,2024-07-28 15:00:00,sci-fi,200\n",
        "844,”Westworld”,2,2024-07-29 15:00:00,sci-fi,300\n",
        "672,”Black Mirror”,5,2024-07-28 15:00:00,sci-fi,150\n",
        "672,”Panchayat”,1,2024-07-27 15:00:00,comedy,190"
      ]
    },
    {
      "cell_type": "code",
      "execution_count": null,
      "metadata": {
        "id": "GLxzpwaSIJRA"
      },
      "outputs": [],
      "source": [
        "#Import Libraries\n",
        "!pip install pyspark\n",
        "from pyspark.sql import SparkSession\n",
        "from pyspark.sql.functions import *"
      ]
    },
    {
      "cell_type": "code",
      "execution_count": null,
      "metadata": {
        "id": "YChMWo_nIJTq"
      },
      "outputs": [],
      "source": [
        "#Create SparkSession for app (Streaming Analysis)\n",
        "spark = SparkSession.builder.appName('practice').getOrCreate()"
      ]
    },
    {
      "cell_type": "code",
      "execution_count": null,
      "metadata": {
        "id": "gljhEO_IIJXB"
      },
      "outputs": [],
      "source": [
        "#Create Dataframe series_df\n",
        "df = spark.createDataFrame(data=data,schema=schema)"
      ]
    },
    {
      "cell_type": "code",
      "execution_count": null,
      "metadata": {
        "id": "ddoznJiZIJZI"
      },
      "outputs": [],
      "source": [
        "#Find the user with maximum watchtime\n",
        "df.groupBy('user_id').agg({'duration_mins':'sum'}).orderBy('sum(duration_mins)',ascending=False).limit(1).show()"
      ]
    },
    {
      "cell_type": "code",
      "execution_count": null,
      "metadata": {
        "id": "KCpeY-cyynpN"
      },
      "outputs": [],
      "source": [
        "#Calculate overall total Watchtime\n",
        "df.agg('duration_mins':'sum').show()"
      ]
    },
    {
      "cell_type": "code",
      "execution_count": null,
      "metadata": {
        "id": "SMnElt2ZIJbJ"
      },
      "outputs": [],
      "source": [
        "#Find most popular shows (based on watchtime)\n",
        "\n"
      ]
    },
    {
      "cell_type": "code",
      "execution_count": null,
      "metadata": {
        "id": "-W2oNioNIJem"
      },
      "outputs": [],
      "source": [
        "#Find most popular shows (based on user popularity)\n"
      ]
    },
    {
      "cell_type": "code",
      "execution_count": null,
      "metadata": {
        "id": "Z-RpLlNFIJgk"
      },
      "outputs": [],
      "source": [
        "#Find the most popular genre\n"
      ]
    },
    {
      "cell_type": "code",
      "execution_count": null,
      "metadata": {
        "id": "vm_-_AUWIJis"
      },
      "outputs": [],
      "source": [
        "#Calculate total watchtime per use\n",
        "df.groupBy('user_id').agg({'duration_mins':'sum'}).show()"
      ]
    },
    {
      "cell_type": "code",
      "execution_count": null,
      "metadata": {
        "id": "l-DuDyiOIJlG"
      },
      "outputs": [],
      "source": [
        "#Find most popular genre (based on engagement count)\n"
      ]
    },
    {
      "cell_type": "code",
      "execution_count": null,
      "metadata": {
        "id": "yFFZh-NFIJnQ"
      },
      "outputs": [],
      "source": [
        "#Find average watchtime per genre\n",
        "df.groupBy('genre').agg({'duration_min':'avg'})"
      ]
    },
    {
      "cell_type": "code",
      "execution_count": null,
      "metadata": {
        "id": "HzXnysiXIJpq"
      },
      "outputs": [],
      "source": [
        "#Find peak traffic days\n",
        "#(Output 1 = Full Date)\n",
        "df = df.groupBy('timestamp').agg({'timestamp':'count'}).orderBy('count(timestamp)',ascending = False).show()\n",
        "\n",
        "#(Output 2 = Only Day)\n",
        "\n"
      ]
    },
    {
      "cell_type": "code",
      "execution_count": null,
      "metadata": {
        "id": "yY7SlM8yIJsz"
      },
      "outputs": [],
      "source": [
        "#Find the user with most diverse show preference\n",
        "df = df.groupBy('user_id').agg(countDistinct('series')).orderBy(countDistinct('series'),ascending = False).limit(1).show()"
      ]
    },
    {
      "cell_type": "code",
      "execution_count": null,
      "metadata": {
        "id": "9UMeWCk-IJvK"
      },
      "outputs": [],
      "source": [
        "#Find the binge-watchers\n",
        "df1 = df.groupBy('series').agg(max('season'))\n",
        "df = df.\n"
      ]
    },
    {
      "cell_type": "code",
      "execution_count": null,
      "metadata": {
        "id": "14CBZwe2M3rZ"
      },
      "outputs": [],
      "source": [
        "#Find the user with longest watching streak\n",
        "df.groupBy('user_id').agg({'duration_mins':'sum'}).orderBy('sum(duration_mins)',ascending = False).limit(1).show()"
      ]
    },
    {
      "cell_type": "code",
      "execution_count": null,
      "metadata": {
        "id": "X0HCvFNbye9Y"
      },
      "outputs": [],
      "source": [
        "#Total Seasons available\n",
        "df.groupBy('series').agg({'seasons':'max'}).show()"
      ]
    },
    {
      "cell_type": "code",
      "execution_count": null,
      "metadata": {
        "id": "weylH9PDM3uU"
      },
      "outputs": [],
      "source": [
        "#Fetch a list of all series\n",
        "df.rdd.flatMap(lambda x:[x[1]]).distinct().collect()"
      ]
    }
  ],
  "metadata": {
    "colab": {
      "provenance": []
    },
    "kernelspec": {
      "display_name": "Python 3",
      "name": "python3"
    },
    "language_info": {
      "name": "python"
    }
  },
  "nbformat": 4,
  "nbformat_minor": 0
}
