{
  "cells": [
    {
      "cell_type": "markdown",
      "metadata": {
        "id": "view-in-github",
        "colab_type": "text"
      },
      "source": [
        "<a href=\"https://colab.research.google.com/github/Srinath-2603/Srinath/blob/main/pspyk12.ipynb\" target=\"_parent\"><img src=\"https://colab.research.google.com/assets/colab-badge.svg\" alt=\"Open In Colab\"/></a>"
      ]
    },
    {
      "cell_type": "code",
      "execution_count": null,
      "metadata": {
        "id": "UoH8kZvLICAR"
      },
      "outputs": [],
      "source": [
        "cv#user_data\n",
        "\n",
        "user_id,series,season,timestamp,genre,duration_mins\n",
        "521,”Mirzapur”,3,2024-07-30 15:00:00,action,300\n",
        "672,”Panchayat”,3,2024-07-30 15:00:00,comedy,200\n",
        "197,”Family Man”,2,2024-07-30 15:00:00,action,500\n",
        "521,”Mirzapur”,2,2024-07-29 15:00:00,action,280\n",
        "211,”Queens Gambit”,1,2024-07-30 15:00:00,drama,170\n",
        "521,”Mirzapur”,1,2024-07-28 15:00:00,action,230\n",
        "844,”Westworld”,3,2024-07-30 15:00:00,sci-fi,310\n",
        "672,”Panchayat”,3,2024-07-29 15:00:00,comedy,210\n",
        "256,”Homecoming”,2,2024-07-30 15:00:00,thriller,310\n",
        "489,”Outer Range”,1,2024-07-30 15:00:00,sci-fi,340\n",
        "200,”Black Mirror”,2,2024-07-30 15:00:00,sci-fi,140\n",
        "256,”Outer Range”,2,2024-07-30 15:00:00,thriller,250\n",
        "489,”Outer Range”,2,2024-07-28 15:00:00,sci-fi,170\n",
        "200,”Black Mirror”,3,2024-07-29 15:00:00,sci-fi,190\n",
        "672,”Panchayat”,2,2024-07-28 15:00:00,comedy,160\n",
        "672,”Outer Range”,1,2024-07-25 15:00:00,sci-fi,250\n",
        "200,”Black Mirror”,4,2024-07-28 15:00:00,sci-fi,200\n",
        "844,”Westworld”,2,2024-07-29 15:00:00,sci-fi,300\n",
        "672,”Black Mirror”,5,2024-07-28 15:00:00,sci-fi,150\n",
        "672,”Panchayat”,1,2024-07-27 15:00:00,comedy,190"
      ]
    },
    {
      "cell_type": "code",
      "execution_count": 1,
      "metadata": {
        "id": "GLxzpwaSIJRA",
        "colab": {
          "base_uri": "https://localhost:8080/"
        },
        "outputId": "466148e8-e37f-4c4f-afa2-6a19135fffb4"
      },
      "outputs": [
        {
          "output_type": "stream",
          "name": "stdout",
          "text": [
            "Collecting pyspark\n",
            "  Downloading pyspark-3.5.1.tar.gz (317.0 MB)\n",
            "\u001b[2K     \u001b[90m━━━━━━━━━━━━━━━━━━━━━━━━━━━━━━━━━━━━━━━━\u001b[0m \u001b[32m317.0/317.0 MB\u001b[0m \u001b[31m4.8 MB/s\u001b[0m eta \u001b[36m0:00:00\u001b[0m\n",
            "\u001b[?25h  Preparing metadata (setup.py) ... \u001b[?25l\u001b[?25hdone\n",
            "Requirement already satisfied: py4j==0.10.9.7 in /usr/local/lib/python3.10/dist-packages (from pyspark) (0.10.9.7)\n",
            "Building wheels for collected packages: pyspark\n",
            "  Building wheel for pyspark (setup.py) ... \u001b[?25l\u001b[?25hdone\n",
            "  Created wheel for pyspark: filename=pyspark-3.5.1-py2.py3-none-any.whl size=317488490 sha256=b3d2949aa20aeb8832393b1fdd0b98f0b58b709e0175fb56649bd348fc60c9ac\n",
            "  Stored in directory: /root/.cache/pip/wheels/80/1d/60/2c256ed38dddce2fdd93be545214a63e02fbd8d74fb0b7f3a6\n",
            "Successfully built pyspark\n",
            "Installing collected packages: pyspark\n",
            "Successfully installed pyspark-3.5.1\n"
          ]
        }
      ],
      "source": [
        "#Import Libraries\n",
        "!pip install pyspark\n",
        "from pyspark.sql import SparkSession\n",
        "from pyspark.sql.functions import *"
      ]
    },
    {
      "cell_type": "code",
      "execution_count": 2,
      "metadata": {
        "id": "YChMWo_nIJTq"
      },
      "outputs": [],
      "source": [
        "#Create SparkSession for app (Streaming Analysis)\n",
        "spark = SparkSession.builder.appName('practice').getOrCreate()"
      ]
    },
    {
      "cell_type": "code",
      "execution_count": null,
      "metadata": {
        "id": "gljhEO_IIJXB"
      },
      "outputs": [],
      "source": [
        "#Create Dataframe series_df\n",
        "df = spark.createDataFrame(data=data,schema=schema)"
      ]
    },
    {
      "cell_type": "code",
      "execution_count": null,
      "metadata": {
        "id": "ddoznJiZIJZI"
      },
      "outputs": [],
      "source": [
        "#Find the user with maximum watchtime\n",
        "df.groupBy('user_id').agg({'duration_mins':'sum'}).orderBy('sum(duration_mins)',ascending=False).limit(1).show()"
      ]
    },
    {
      "cell_type": "code",
      "execution_count": null,
      "metadata": {
        "id": "KCpeY-cyynpN"
      },
      "outputs": [],
      "source": [
        "#Calculate overall total Watchtime\n",
        "df.agg('duration_mins':'sum').show()"
      ]
    },
    {
      "cell_type": "code",
      "execution_count": null,
      "metadata": {
        "id": "SMnElt2ZIJbJ"
      },
      "outputs": [],
      "source": [
        "#Find most popular shows (based on watchtime)\n",
        "df = df.groupBy('series').agg({'duration_mins':'sum'}).orderBy('sum(duration_mins)',ascending = False).show()\n"
      ]
    },
    {
      "cell_type": "code",
      "execution_count": null,
      "metadata": {
        "id": "-W2oNioNIJem"
      },
      "outputs": [],
      "source": [
        "#Find most popular shows (based on user popularity)\n",
        "df = df.groupBy('series').agg({'user_id':'count'}).orderBy('count(user_id)',ascending = False).show()"
      ]
    },
    {
      "cell_type": "code",
      "execution_count": null,
      "metadata": {
        "id": "Z-RpLlNFIJgk"
      },
      "outputs": [],
      "source": [
        "#Find the most popular genre\n",
        "df = df.groupBy('genre').agg({'duration_mins':'sum'}).orderBy('sum(duration_mins)',ascending = False).show()"
      ]
    },
    {
      "cell_type": "code",
      "execution_count": null,
      "metadata": {
        "id": "vm_-_AUWIJis"
      },
      "outputs": [],
      "source": [
        "#Calculate total watchtime per use\n",
        "df.groupBy('user_id').agg({'duration_mins':'sum'}).show()"
      ]
    },
    {
      "cell_type": "code",
      "execution_count": null,
      "metadata": {
        "id": "l-DuDyiOIJlG"
      },
      "outputs": [],
      "source": [
        "#Find most popular genre (based on engagement count)\n",
        "df = df.groupBy('genre').agg({'user_id':'count'}).orderBy('count(user_id)',ascending = False).show()"
      ]
    },
    {
      "cell_type": "code",
      "execution_count": null,
      "metadata": {
        "id": "yFFZh-NFIJnQ"
      },
      "outputs": [],
      "source": [
        "#Find average watchtime per genre\n",
        "df.groupBy('genre').agg({'duration_min':'avg'})"
      ]
    },
    {
      "cell_type": "code",
      "execution_count": null,
      "metadata": {
        "id": "HzXnysiXIJpq"
      },
      "outputs": [],
      "source": [
        "#Find peak traffic days\n",
        "#(Output 1 = Full Date)\n",
        "df = df.groupBy('timestamp').agg({'timestamp':'count'}).orderBy('count(timestamp)',ascending = False).show()\n",
        "\n",
        "#(Output 2 = Only Day)\n",
        "\n"
      ]
    },
    {
      "cell_type": "code",
      "execution_count": null,
      "metadata": {
        "id": "yY7SlM8yIJsz"
      },
      "outputs": [],
      "source": [
        "#Find the user with most diverse show preference\n",
        "df = df.groupBy('user_id').agg(countDistinct('series')).orderBy(countDistinct('series'),ascending = False).limit(1).show()"
      ]
    },
    {
      "cell_type": "code",
      "execution_count": null,
      "metadata": {
        "id": "9UMeWCk-IJvK"
      },
      "outputs": [],
      "source": [
        "#Find the binge-watchers\n",
        "df1=df.groupBy('user_id','timestamp','series').agg({'season':'count'}).withColumnRenamed('count(season)','count').orderBy('user_id')\n",
        "df2=df.groupBy('series').agg({'season':'max'}).withColumnRenamed('max(season)','max')\n",
        "df3=df1.join(df2,'series','inner')\n",
        "df3.show()\n",
        "df3.filter(f.col('count')==f.col('max')).collect()[0][1]"
      ]
    },
    {
      "cell_type": "code",
      "execution_count": null,
      "metadata": {
        "id": "14CBZwe2M3rZ"
      },
      "outputs": [],
      "source": [
        "#Find the user with longest watching streak\n",
        "df.groupBy('user_id').agg({'duration_mins':'sum'}).orderBy('sum(duration_mins)',ascending = False).limit(1).show()"
      ]
    },
    {
      "cell_type": "code",
      "execution_count": null,
      "metadata": {
        "id": "X0HCvFNbye9Y"
      },
      "outputs": [],
      "source": [
        "#Total Seasons available\n",
        "df.groupBy('series').agg({'seasons':'max'}).show()"
      ]
    },
    {
      "cell_type": "code",
      "execution_count": null,
      "metadata": {
        "id": "weylH9PDM3uU"
      },
      "outputs": [],
      "source": [
        "#Fetch a list of all series\n",
        "df.rdd.flatMap(lambda x:[x[1]]).distinct().collect()"
      ]
    }
  ],
  "metadata": {
    "colab": {
      "provenance": [],
      "include_colab_link": true
    },
    "kernelspec": {
      "display_name": "Python 3",
      "name": "python3"
    },
    "language_info": {
      "name": "python"
    }
  },
  "nbformat": 4,
  "nbformat_minor": 0
}